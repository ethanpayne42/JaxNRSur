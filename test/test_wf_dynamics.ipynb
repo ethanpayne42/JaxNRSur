{
 "cells": [
  {
   "cell_type": "code",
   "execution_count": 1,
   "metadata": {},
   "outputs": [
    {
     "name": "stderr",
     "output_type": "stream",
     "text": [
      "/workspaces/JaxNRSur/src/jaxNRSur/PolyPredictor.py:29: UserWarning: As of jaxtyping version 0.2.24, jaxtyping now prefers the syntax\n",
      "```\n",
      "from jaxtyping import jaxtyped\n",
      "# Use your favourite typechecker: usually one of the two lines below.\n",
      "from typeguard import typechecked as typechecker\n",
      "from beartype import beartype as typechecker\n",
      "\n",
      "@jaxtyped(typechecker=typechecker)\n",
      "def foo(...):\n",
      "```\n",
      "and the old double-decorator syntax\n",
      "```\n",
      "@jaxtyped\n",
      "@typechecker\n",
      "def foo(...):\n",
      "```\n",
      "should no longer be used. (It will continue to work as it did before, but the new approach will produce more readable error messages.)\n",
      "In particular note that `typechecker` must be passed via keyword argument; the following is not valid:\n",
      "```\n",
      "@jaxtyped(typechecker)\n",
      "def foo(...):\n",
      "```\n",
      "\n",
      "  def predict(\n"
     ]
    },
    {
     "name": "stdout",
     "output_type": "stream",
     "text": [
      "Try loading file from cache\n",
      "Cache found and loading data\n",
      "cannot import LAL\n",
      "__name__ = gwsurrogate.new.spline_evaluation\n",
      "__package__= gwsurrogate.new\n",
      "\n",
      "NRSur7dq4.h5 file exits, moving to /home/codespace/.python/current/lib/python3.10/site-packages/gwsurrogate/surrogate_downloads/backup/2024Oct22_21h:02m:19s_NRSur7dq4.h5.\n",
      "There are a lot of backup files in /home/codespace/.python/current/lib/python3.10/site-packages/gwsurrogate/surrogate_downloads/backup, consider removing some.\n",
      "Loaded NRSur7dq4 model\n"
     ]
    }
   ],
   "source": [
    "from jaxNRSur.SurrogateModel import NRSur7dq4Model\n",
    "import jax.numpy as jnp\n",
    "import numpy as np\n",
    "from scipy.interpolate import interp1d\n",
    "\n",
    "import matplotlib.pyplot as plt\n",
    "\n",
    "q = 2\n",
    "incl = 1.4376\n",
    "phiref = 2.65\n",
    "\n",
    "chi1 = jnp.array([-0.19, 0, 0.3])\n",
    "chi2 = jnp.array([0.01, 0, 0.8])\n",
    "\n",
    "params = jnp.array([q, chi1[0], chi1[1], chi1[2], chi2[0], chi2[1], chi2[2]])\n",
    "\n",
    "model = NRSur7dq4Model()\n",
    "waveform_jax, dyn_jax = model.get_waveform(jnp.linspace(0, 1, 10), params, theta=incl, phi=phiref) # note the time array here doesn't do anything \n",
    "\n",
    "import gwsurrogate\n",
    "\n",
    "gwsurrogate.catalog.pull('NRSur7dq4')\n",
    "sur = gwsurrogate.LoadSurrogate('NRSur7dq4')\n",
    "\n",
    "#t, h, dyn = sur(q, np.array([0,0,0]), np.array([0,0,0]), dt=1, f_low=0, inclination=incl, phi_ref=jnp.pi/2, units='dimensionless', precessing_opts={'return_dynamics': True})\n",
    "t, h, dyn = sur(q, chi1, chi2, dt=1, f_low=0, units='dimensionless', precessing_opts={'return_dynamics': True})\n",
    "\n",
    "orbphase_gwsur = interp1d(t, dyn['orbphase'][:,], bounds_error=False, fill_value=0)(model.data.t_coorb)"
   ]
  },
  {
   "cell_type": "code",
   "execution_count": 2,
   "metadata": {},
   "outputs": [
    {
     "name": "stdout",
     "output_type": "stream",
     "text": [
      "(2, 0) (0.3794616415656599+0j) (0.3794616415656599+0j)\n",
      "(2, 1) (-0.31217872277830944+0.16715161919238025j) (-0.31217872277830944+0.16715161919238025j)\n",
      "(2, -1) (-0.23898289912322399-0.12795996534364604j) (-0.23898289912322399-0.12795996534364604j)\n",
      "(2, 2) (0.11218423925972859-0.16841921382946984j) (0.11218423925972859-0.16841921382946984j)\n",
      "(2, -2) (0.06574442008910432+0.09870034880252698j) (0.06574442008910432+0.09870034880252698j)\n",
      "(3, 0) (0.13332888089996064+0j) (0.13332888089996064+0j)\n",
      "(3, 1) (0.17567461995986222-0.09406245536519083j) (0.17567461995986222-0.09406245536519083j)\n",
      "(3, -1) (-0.31261146708988874-0.16738332592669264j) (-0.31261146708988874-0.16738332592669264j)\n",
      "(3, 2) (-0.21259234495519558+0.31915923163344473j) (-0.21259234495519558+0.31915923163344473j)\n",
      "(3, -2) (0.18657182946319925+0.28009532398012854j) (0.18657182946319925+0.28009532398012854j)\n",
      "(3, 3) (0.027865140709553482-0.28931395846883057j) (0.027865140709553482-0.28931395846883057j)\n",
      "(3, -3) (-0.016330079240538396-0.16954947101953985j) (-0.016330079240538396-0.16954947101953985j)\n",
      "(4, 0) (-0.28805284118882846+0j) (-0.28805284118882846-0j)\n",
      "(4, 1) (0.24917427114550425-0.13341678930703255j) (0.24917427114550425-0.13341678930703255j)\n",
      "(4, -1) (-0.02001159836901203-0.010714923298547013j) (-0.02001159836901203-0.010714923298547013j)\n",
      "(4, 2) (0.02917448993229751-0.04379888557159537j) (0.02917448993229751-0.04379888557159537j)\n",
      "(4, -2) (0.18109237693247424+0.2718691676721641j) (0.18109237693247424+0.2718691676721641j)\n",
      "(4, 3) (-0.0354446904487843+0.36800975840485756j) (-0.0354446904487843+0.36800975840485756j)\n",
      "(4, -3) (-0.03579705743010594-0.37166826087798244j) (-0.03579705743010594-0.37166826087798244j)\n",
      "(4, 4) (-0.13595595602304353-0.3255758646415168j) (-0.13595595602304353-0.3255758646415168j)\n",
      "(4, -4) (-0.07967559030908734+0.19080038833537866j) (-0.07967559030908734+0.19080038833537866j)\n"
     ]
    }
   ],
   "source": [
    "from jaxNRSur.Harmonics import SpinWeightedSphericalHarmonics\n",
    "from gwtools.harmonics import sYlm as _sYlm\n",
    "\n",
    "\n",
    "for idx, mode in enumerate(list(model.modelist_dict_extended.keys())):\n",
    "\n",
    "    print(mode, SpinWeightedSphericalHarmonics(-2, mode[0], mode[1])(incl, phiref), _sYlm(-2, mode[0], mode[1], incl,phiref))"
   ]
  },
  {
   "cell_type": "code",
   "execution_count": 3,
   "metadata": {},
   "outputs": [],
   "source": [
    "orbphase_gwsur = interp1d(t, dyn['orbphase'][:,], bounds_error=False, fill_value=0, kind='cubic')(model.data.t_coorb)\n",
    "quat_gwsur = interp1d(t, dyn['q_copr'][:,], bounds_error=False, fill_value=0, kind='cubic')(model.data.t_coorb)\n",
    "chi1_gwsur = interp1d(t, dyn['chiA_copr'][:,].T, bounds_error=False, fill_value=0, kind='cubic')(model.data.t_coorb)\n",
    "chi2_gwsur = interp1d(t, dyn['chiB_copr'][:,].T, bounds_error=False, fill_value=0, kind='cubic')(model.data.t_coorb)"
   ]
  },
  {
   "cell_type": "code",
   "execution_count": 4,
   "metadata": {},
   "outputs": [],
   "source": [
    "Omega_interp_gwsur = jnp.hstack([quat_gwsur.T, orbphase_gwsur[:,jnp.newaxis], chi1_gwsur.T, chi2_gwsur.T])"
   ]
  },
  {
   "cell_type": "code",
   "execution_count": 5,
   "metadata": {},
   "outputs": [],
   "source": [
    "# plt.plot(t, h, label='gwsur')\n",
    "# plt.plot(model.data.t_coorb, waveform_jax, label='Jax')\n",
    "\n",
    "# plt.xlabel('time [M]')\n",
    "# plt.legend(loc='upper left')\n",
    "\n",
    "# plt.xlim(-200,50)\n",
    "\n",
    "# plt.show()"
   ]
  },
  {
   "cell_type": "code",
   "execution_count": 6,
   "metadata": {},
   "outputs": [
    {
     "data": {
      "image/png": "[encoded data removed]",
      "text/plain": [
       "<Figure size 640x480 with 1 Axes>"
      ]
     },
     "metadata": {},
     "output_type": "display_data"
    }
   ],
   "source": [
    "plt.plot(model.data.t_coorb, dyn_jax[:,4]-orbphase_gwsur, label='Jax - gwsur')\n",
    "\n",
    "plt.xlabel('time [M]')\n",
    "plt.legend(loc='upper left')\n",
    "\n",
    "plt.show()"
   ]
  },
  {
   "cell_type": "code",
   "execution_count": 12,
   "metadata": {},
   "outputs": [],
   "source": [
    "import jax\n",
    "from gwtools.harmonics import sYlm as _sYlm\n",
    "\n",
    "coorb_params = jax.vmap(model._get_coorb_params, in_axes=(None, 0))(q, Omega_interp_gwsur)\n",
    "\n",
    "# Get the lambda parameters to go into the waveform calculation\n",
    "lambdas = jax.vmap(model._get_fit_params)(\n",
    "    jax.vmap(model._get_coorb_params, in_axes=(None, 0))(q, Omega_interp_gwsur)\n",
    ")\n",
    "\n",
    "# TODO need to work out how to vmap this later\n",
    "inertial_h_lms = jnp.zeros((len(model.data.t_coorb), model.n_modes_extended), dtype=complex)\n",
    "\n",
    "inertial_h_lm_array = {}\n",
    "coorb_h_lm_array = {}\n",
    "\n",
    "\n",
    "for mode in model.modelist_dict.keys():\n",
    "    # get the coorb hlms\n",
    "    coorb_h_lm_plus, coorb_h_lm_minus = model.get_coorb_hlm(lambdas, mode=mode)\n",
    "\n",
    "    coorb_h_lm_array[mode] = coorb_h_lm_plus\n",
    "    if mode[1] > 0:\n",
    "        coorb_h_lm_array[(mode[0], -mode[1])] = coorb_h_lm_minus\n",
    "    \n",
    "    # Multiply copressing mode by Wigner-D components (N_modes x times)\n",
    "    # Note that this also does the rotation of the quaternions into the inertial frame\n",
    "\n",
    "    inertial_h_lms += (model.wigner_d_coefficients(Omega_interp_gwsur[:,:4], Omega_interp_gwsur[:,4], mode).T * coorb_h_lm_plus).T\n",
    "    inertial_h_lms += (model.wigner_d_coefficients(Omega_interp_gwsur[:,:4], Omega_interp_gwsur[:,4], (mode[0], -mode[1])).T * coorb_h_lm_minus).T\n",
    "\n",
    "# Sum along the N_modes axis with the spherical harmonics to generate strain as function of time\n",
    "inertial_h = jnp.zeros(len(model.data.t_coorb), dtype=complex)\n",
    "for idx in model.modelist_dict_extended.values():\n",
    "\n",
    "    mode = list(model.modelist_dict_extended.keys())[idx]\n",
    "    #inertial_h += _sYlm(-2, mode[0], mode[1], incl,phiref) * inertial_h_lms[:,idx]\n",
    "    inertial_h += model.harmonics[idx](incl, jnp.pi/2 - phiref) * inertial_h_lms[:,idx]\n",
    "\n",
    "    inertial_h_lm_array[list(model.modelist_dict_extended.keys())[idx]] = inertial_h_lms[:,idx]"
   ]
  },
  {
   "cell_type": "code",
   "execution_count": 13,
   "metadata": {},
   "outputs": [
    {
     "name": "stdout",
     "output_type": "stream",
     "text": [
      "3 (2, 2)\n"
     ]
    },
    {
     "name": "stderr",
     "output_type": "stream",
     "text": [
      "/home/codespace/.local/lib/python3.10/site-packages/matplotlib/cbook.py:1762: ComplexWarning: Casting complex values to real discards the imaginary part\n",
      "  return math.isfinite(val)\n",
      "/home/codespace/.local/lib/python3.10/site-packages/matplotlib/cbook.py:1398: ComplexWarning: Casting complex values to real discards the imaginary part\n",
      "  return np.asarray(x, float)\n"
     ]
    },
    {
     "data": {
      "image/png": "[encoded data removed]",
      "text/plain": [
       "<Figure size 640x480 with 1 Axes>"
      ]
     },
     "metadata": {},
     "output_type": "display_data"
    },
    {
     "data": {
      "text/plain": [
       "<Figure size 640x480 with 0 Axes>"
      ]
     },
     "metadata": {},
     "output_type": "display_data"
    }
   ],
   "source": [
    "for mode, i in model.modelist_dict_extended.items():\n",
    "    if mode[0] < 2:\n",
    "        print(i, mode)\n",
    "\n",
    "        print(mode, model.harmonics[i](incl, phiref), _sYlm(-2, mode[0], mode[1], incl,phiref))\n",
    "\n",
    "        # plt.plot(model.data.t_coorb, interp1d(t,h[mode], bounds_error=False, fill_value=0, kind='cubic')(model.data.t_coorb), label='gwsurrogate')\n",
    "        # plt.plot(model.data.t_coorb, inertial_h_lm_array[mode], label='JAX with gwsurrogate dynamics')\n",
    "        # #plt.plot(model.data.t_coorb, interp1d(t,h[mode], bounds_error=False, fill_value=0, kind='linear')(model.data.t_coorb) - inertial_h_lm_array[mode], label='JAX hlm with gwsurrogate dynamics') #(-2.22919481+0.00253773j)*\n",
    "        # plt.legend()\n",
    "        # plt.xlabel('time [M]')\n",
    "        # plt.ylabel('strain')\n",
    "        # #plt.xlim(-200, 50)\n",
    "        # plt.show()\n",
    "        # plt.clf()\n",
    "\n",
    "for mode, i in model.modelist_dict_extended.items():\n",
    "    if mode == (2,2):\n",
    "        print(i, mode)\n",
    "\n",
    "        #plt.plot(model.data.t_coorb, interp1d(t,h[mode], bounds_error=False, fill_value=0, kind='linear')(model.data.t_coorb), label='gwsurrogate')\n",
    "        #plt.plot(model.data.t_coorb, inertial_h_lm_array[mode], label='JAX with gwsurrogate dynamics')\n",
    "        plt.plot(model.data.t_coorb, interp1d(t,h[mode], bounds_error=False, fill_value=0, kind='cubic')(model.data.t_coorb) - inertial_h_lm_array[mode], label='JAX hlm with gwsurrogate dynamics') #(-2.22919481+0.00253773j)*\n",
    "        plt.legend()\n",
    "        plt.xlabel('time [M]')\n",
    "        plt.ylabel('strain')\n",
    "        #plt.xlim(-200, 50)\n",
    "        plt.show()\n",
    "        plt.clf()"
   ]
  },
  {
   "cell_type": "code",
   "execution_count": 17,
   "metadata": {},
   "outputs": [
    {
     "data": {
      "text/plain": [
       "[<matplotlib.lines.Line2D at 0x70dc3d2db4f0>]"
      ]
     },
     "execution_count": 17,
     "metadata": {},
     "output_type": "execute_result"
    },
    {
     "data": {
      "image/png": "[encoded data removed]",
      "text/plain": [
       "<Figure size 640x480 with 1 Axes>"
      ]
     },
     "metadata": {},
     "output_type": "display_data"
    }
   ],
   "source": [
    "t, h_full, dyn = sur(q, chi1, chi2, dt=1, f_low=0, inclination=incl, phi_ref=phiref, units='dimensionless', precessing_opts={'return_dynamics': True})\n",
    "\n",
    "#plt.plot(model.data.t_coorb, inertial_h)\n",
    "#plt.plot(t, h_full)\n",
    "\n",
    "plt.plot(model.data.t_coorb, interp1d(t, h_full, bounds_error=False, fill_value=0, kind='cubic')(model.data.t_coorb) - inertial_h)"
   ]
  },
  {
   "cell_type": "code",
   "execution_count": null,
   "metadata": {},
   "outputs": [],
   "source": []
  },
  {
   "cell_type": "code",
   "execution_count": 10,
   "metadata": {},
   "outputs": [
    {
     "data": {
      "text/plain": [
       "20"
      ]
     },
     "execution_count": 10,
     "metadata": {},
     "output_type": "execute_result"
    }
   ],
   "source": [
    "idx"
   ]
  },
  {
   "cell_type": "code",
   "execution_count": null,
   "metadata": {},
   "outputs": [],
   "source": []
  }
 ],
 "metadata": {
  "kernelspec": {
   "display_name": "Python 3",
   "language": "python",
   "name": "python3"
  },
  "language_info": {
   "codemirror_mode": {
    "name": "ipython",
    "version": 3
   },
   "file_extension": ".py",
   "mimetype": "text/x-python",
   "name": "python",
   "nbconvert_exporter": "python",
   "pygments_lexer": "ipython3",
   "version": "3.10.13"
  }
 },
 "nbformat": 4,
 "nbformat_minor": 2
}
